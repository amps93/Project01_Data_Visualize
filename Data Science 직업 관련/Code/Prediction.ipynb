{
 "cells": [
  {
   "cell_type": "code",
   "execution_count": 37,
   "id": "1700a9f3-c746-4409-ba51-468e649b83bf",
   "metadata": {},
   "outputs": [
    {
     "name": "stdout",
     "output_type": "stream",
     "text": [
      "Setup Complete\n"
     ]
    }
   ],
   "source": [
    "import pandas as pd\n",
    "import numpy as np\n",
    "import pandas_profiling\n",
    "\n",
    "#Import libs\n",
    "pd.plotting.register_matplotlib_converters()\n",
    "import matplotlib.pyplot as plt\n",
    "import matplotlib as mpl\n",
    "import matplotlib.ticker as mticker\n",
    "%matplotlib inline\n",
    "\n",
    "import seaborn as sns\n",
    "\n",
    "import plotly.express as px\n",
    "import plotly.graph_objects as go\n",
    "\n",
    "print(\"Setup Complete\")"
   ]
  },
  {
   "cell_type": "code",
   "execution_count": 38,
   "id": "04f29ecf-d1ea-46c7-924a-af69351a9f1d",
   "metadata": {},
   "outputs": [],
   "source": [
    "df = pd.read_csv('encoding.csv', index_col=0)"
   ]
  },
  {
   "cell_type": "code",
   "execution_count": 39,
   "id": "e3e28ba7-bbdc-4523-a192-9accf4f6bf17",
   "metadata": {},
   "outputs": [
    {
     "data": {
      "text/html": [
       "<div>\n",
       "<style scoped>\n",
       "    .dataframe tbody tr th:only-of-type {\n",
       "        vertical-align: middle;\n",
       "    }\n",
       "\n",
       "    .dataframe tbody tr th {\n",
       "        vertical-align: top;\n",
       "    }\n",
       "\n",
       "    .dataframe thead th {\n",
       "        text-align: right;\n",
       "    }\n",
       "</style>\n",
       "<table border=\"1\" class=\"dataframe\">\n",
       "  <thead>\n",
       "    <tr style=\"text-align: right;\">\n",
       "      <th></th>\n",
       "      <th>Age</th>\n",
       "      <th>Gender</th>\n",
       "      <th>Country</th>\n",
       "      <th>Education Level</th>\n",
       "      <th>Role</th>\n",
       "      <th>Programming Experience</th>\n",
       "      <th>ML Experience</th>\n",
       "      <th>Company Size</th>\n",
       "      <th>Company Data Scientists</th>\n",
       "      <th>Yearly Compensation</th>\n",
       "      <th>Spent Money (5years)</th>\n",
       "      <th>Primary Tool</th>\n",
       "      <th># of Languages</th>\n",
       "      <th># of Visual tools</th>\n",
       "      <th># of ML frameworks</th>\n",
       "      <th># of ML algorithms</th>\n",
       "    </tr>\n",
       "  </thead>\n",
       "  <tbody>\n",
       "    <tr>\n",
       "      <th>2</th>\n",
       "      <td>3</td>\n",
       "      <td>0</td>\n",
       "      <td>3</td>\n",
       "      <td>3.0</td>\n",
       "      <td>10.0</td>\n",
       "      <td>4.0</td>\n",
       "      <td>2.0</td>\n",
       "      <td>5.0</td>\n",
       "      <td>7.0</td>\n",
       "      <td>18.0</td>\n",
       "      <td>6.0</td>\n",
       "      <td>2.0</td>\n",
       "      <td>3</td>\n",
       "      <td>4</td>\n",
       "      <td>4</td>\n",
       "      <td>3</td>\n",
       "    </tr>\n",
       "    <tr>\n",
       "      <th>3</th>\n",
       "      <td>4</td>\n",
       "      <td>0</td>\n",
       "      <td>3</td>\n",
       "      <td>2.0</td>\n",
       "      <td>4.0</td>\n",
       "      <td>5.0</td>\n",
       "      <td>0.0</td>\n",
       "      <td>4.0</td>\n",
       "      <td>1.0</td>\n",
       "      <td>8.0</td>\n",
       "      <td>1.0</td>\n",
       "      <td>0.0</td>\n",
       "      <td>3</td>\n",
       "      <td>1</td>\n",
       "      <td>0</td>\n",
       "      <td>0</td>\n",
       "    </tr>\n",
       "    <tr>\n",
       "      <th>4</th>\n",
       "      <td>3</td>\n",
       "      <td>0</td>\n",
       "      <td>3</td>\n",
       "      <td>3.0</td>\n",
       "      <td>3.0</td>\n",
       "      <td>4.0</td>\n",
       "      <td>4.0</td>\n",
       "      <td>3.0</td>\n",
       "      <td>4.0</td>\n",
       "      <td>19.0</td>\n",
       "      <td>5.0</td>\n",
       "      <td>3.0</td>\n",
       "      <td>3</td>\n",
       "      <td>3</td>\n",
       "      <td>4</td>\n",
       "      <td>5</td>\n",
       "    </tr>\n",
       "    <tr>\n",
       "      <th>9</th>\n",
       "      <td>4</td>\n",
       "      <td>0</td>\n",
       "      <td>2</td>\n",
       "      <td>4.0</td>\n",
       "      <td>3.0</td>\n",
       "      <td>4.0</td>\n",
       "      <td>3.0</td>\n",
       "      <td>4.0</td>\n",
       "      <td>7.0</td>\n",
       "      <td>15.0</td>\n",
       "      <td>5.0</td>\n",
       "      <td>4.0</td>\n",
       "      <td>3</td>\n",
       "      <td>4</td>\n",
       "      <td>5</td>\n",
       "      <td>2</td>\n",
       "    </tr>\n",
       "    <tr>\n",
       "      <th>12</th>\n",
       "      <td>4</td>\n",
       "      <td>0</td>\n",
       "      <td>3</td>\n",
       "      <td>4.0</td>\n",
       "      <td>6.0</td>\n",
       "      <td>2.0</td>\n",
       "      <td>1.0</td>\n",
       "      <td>1.0</td>\n",
       "      <td>2.0</td>\n",
       "      <td>11.0</td>\n",
       "      <td>2.0</td>\n",
       "      <td>3.0</td>\n",
       "      <td>1</td>\n",
       "      <td>1</td>\n",
       "      <td>1</td>\n",
       "      <td>1</td>\n",
       "    </tr>\n",
       "  </tbody>\n",
       "</table>\n",
       "</div>"
      ],
      "text/plain": [
       "    Age  Gender  Country  Education Level  Role  Programming Experience  \\\n",
       "2     3       0        3              3.0  10.0                     4.0   \n",
       "3     4       0        3              2.0   4.0                     5.0   \n",
       "4     3       0        3              3.0   3.0                     4.0   \n",
       "9     4       0        2              4.0   3.0                     4.0   \n",
       "12    4       0        3              4.0   6.0                     2.0   \n",
       "\n",
       "    ML Experience  Company Size  Company Data Scientists  Yearly Compensation  \\\n",
       "2             2.0           5.0                      7.0                 18.0   \n",
       "3             0.0           4.0                      1.0                  8.0   \n",
       "4             4.0           3.0                      4.0                 19.0   \n",
       "9             3.0           4.0                      7.0                 15.0   \n",
       "12            1.0           1.0                      2.0                 11.0   \n",
       "\n",
       "    Spent Money (5years)  Primary Tool  # of Languages  # of Visual tools  \\\n",
       "2                    6.0           2.0               3                  4   \n",
       "3                    1.0           0.0               3                  1   \n",
       "4                    5.0           3.0               3                  3   \n",
       "9                    5.0           4.0               3                  4   \n",
       "12                   2.0           3.0               1                  1   \n",
       "\n",
       "    # of ML frameworks  # of ML algorithms  \n",
       "2                    4                   3  \n",
       "3                    0                   0  \n",
       "4                    4                   5  \n",
       "9                    5                   2  \n",
       "12                   1                   1  "
      ]
     },
     "execution_count": 39,
     "metadata": {},
     "output_type": "execute_result"
    }
   ],
   "source": [
    "df.head()"
   ]
  },
  {
   "cell_type": "code",
   "execution_count": 40,
   "id": "57795679-5932-4443-8d44-98853826bc66",
   "metadata": {},
   "outputs": [],
   "source": [
    "# df.corr()"
   ]
  },
  {
   "cell_type": "code",
   "execution_count": 41,
   "id": "fd03ec72-2ec9-4e34-8633-b566afecb133",
   "metadata": {},
   "outputs": [],
   "source": [
    "# df.profile_report()"
   ]
  },
  {
   "cell_type": "code",
   "execution_count": 42,
   "id": "9c9a37b7-ba54-495c-b4a6-973d60efb843",
   "metadata": {},
   "outputs": [],
   "source": [
    "from sklearn.datasets import make_classification\n",
    "from sklearn.feature_selection import RFE\n",
    "from sklearn.tree import DecisionTreeClassifier\n",
    "from sklearn.svm import SVR"
   ]
  },
  {
   "cell_type": "code",
   "execution_count": 43,
   "id": "44598a09-315b-4dae-a7bb-a22a64a92073",
   "metadata": {},
   "outputs": [],
   "source": [
    "# define dataset\n",
    "X = df.drop(['Yearly Compensation'], axis=1)\n",
    "y = df['Yearly Compensation']"
   ]
  },
  {
   "cell_type": "code",
   "execution_count": 44,
   "id": "40cd8ceb-4820-4335-ba4b-58c9d2ed1088",
   "metadata": {},
   "outputs": [
    {
     "data": {
      "text/plain": [
       "(10729, 15)"
      ]
     },
     "execution_count": 44,
     "metadata": {},
     "output_type": "execute_result"
    }
   ],
   "source": [
    "X.shape"
   ]
  },
  {
   "cell_type": "code",
   "execution_count": 45,
   "id": "4cc8354d-d831-42cc-a695-ce6d564e8cb0",
   "metadata": {},
   "outputs": [
    {
     "data": {
      "text/plain": [
       "(10729,)"
      ]
     },
     "execution_count": 45,
     "metadata": {},
     "output_type": "execute_result"
    }
   ],
   "source": [
    "y.shape"
   ]
  },
  {
   "cell_type": "code",
   "execution_count": 49,
   "id": "288595f1-cf4d-4c6a-aefc-3930bb8c724f",
   "metadata": {},
   "outputs": [],
   "source": [
    "estimator = SVR(kernel=\"linear\")\n",
    "rfe = RFE(estimator, n_features_to_select=4)"
   ]
  },
  {
   "cell_type": "code",
   "execution_count": 50,
   "id": "7d8de359-20c6-4b84-9a27-a202cfbacf3c",
   "metadata": {},
   "outputs": [
    {
     "data": {
      "text/plain": [
       "RFE(estimator=SVR(kernel='linear'), n_features_to_select=4)"
      ]
     },
     "execution_count": 50,
     "metadata": {},
     "output_type": "execute_result"
    }
   ],
   "source": [
    "rfe.fit(X,y)"
   ]
  },
  {
   "cell_type": "code",
   "execution_count": 51,
   "id": "60cc61ec-9e7f-40c5-b198-b24e3c7bf3a8",
   "metadata": {},
   "outputs": [
    {
     "name": "stdout",
     "output_type": "stream",
     "text": [
      "Column: 0, Selected=2, Rank: 0\n",
      "Column: 1, Selected=4, Rank: 0\n",
      "Column: 2, Selected=1, Rank: 1\n",
      "Column: 3, Selected=11, Rank: 0\n",
      "Column: 4, Selected=9, Rank: 0\n",
      "Column: 5, Selected=1, Rank: 1\n",
      "Column: 6, Selected=3, Rank: 0\n",
      "Column: 7, Selected=1, Rank: 1\n",
      "Column: 8, Selected=6, Rank: 0\n",
      "Column: 9, Selected=1, Rank: 1\n",
      "Column: 10, Selected=8, Rank: 0\n",
      "Column: 11, Selected=5, Rank: 0\n",
      "Column: 12, Selected=10, Rank: 0\n",
      "Column: 13, Selected=12, Rank: 0\n",
      "Column: 14, Selected=7, Rank: 0\n"
     ]
    }
   ],
   "source": [
    "for i in range(X.shape[1]):\n",
    "    print('Column: %d, Selected=%s, Rank: %d' % (i, rfe.ranking_[i], rfe.support_[i]))"
   ]
  },
  {
   "cell_type": "code",
   "execution_count": 28,
   "id": "c7e7774c-b6b1-4ad0-87bb-26e00b993280",
   "metadata": {},
   "outputs": [
    {
     "data": {
      "text/plain": [
       "0                         Age\n",
       "1                      Gender\n",
       "2                     Country\n",
       "3             Education Level\n",
       "4                        Role\n",
       "5      Programming Experience\n",
       "6               ML Experience\n",
       "7                Company Size\n",
       "8     Company Data Scientists\n",
       "9         Yearly Compensation\n",
       "10       Spent Money (5years)\n",
       "11               Primary Tool\n",
       "12             # of Languages\n",
       "13          # of Visual tools\n",
       "14         # of ML frameworks\n",
       "15         # of ML algorithms\n",
       "dtype: object"
      ]
     },
     "execution_count": 28,
     "metadata": {},
     "output_type": "execute_result"
    }
   ],
   "source": [
    "pd.Series(df.columns)"
   ]
  },
  {
   "cell_type": "code",
   "execution_count": 29,
   "id": "e5522d95-6d1d-40b8-9192-1cec6e61677d",
   "metadata": {},
   "outputs": [],
   "source": [
    "# Role, # of ``` "
   ]
  },
  {
   "cell_type": "code",
   "execution_count": null,
   "id": "c228399e-d5c9-48c9-8f26-714ce38b4d42",
   "metadata": {},
   "outputs": [],
   "source": []
  },
  {
   "cell_type": "code",
   "execution_count": 34,
   "id": "5d4819cc-cd7b-4641-8fba-e150b60df027",
   "metadata": {},
   "outputs": [],
   "source": [
    "import numpy as np\n",
    "import pandas as pd\n",
    "\n",
    "import matplotlib.pyplot as plt\n",
    "import seaborn as sns\n",
    "sns.set_style('darkgrid')\n",
    "\n",
    "from sklearn.model_selection import KFold\n",
    "from sklearn.preprocessing import StandardScaler\n",
    "\n",
    "from sklearn.linear_model import LinearRegression"
   ]
  },
  {
   "cell_type": "code",
   "execution_count": 35,
   "id": "9b13b3da-d0aa-42c1-8bfe-d49101eb99f7",
   "metadata": {},
   "outputs": [],
   "source": [
    "results = []\n",
    "kf = KFold(n_splits=5)\n",
    "\n",
    "for train_idx, test_idx in kf.split(X):\n",
    "    \n",
    "    X_train = X.iloc[train_idx, :]\n",
    "    X_test = X.iloc[test_idx, :]\n",
    "    y_train = y.iloc[train_idx]\n",
    "    y_test = y.iloc[test_idx]\n",
    "    \n",
    "    scaler = StandardScaler()\n",
    "    scaler.fit(X_train)\n",
    "    X_train = pd.DataFrame(scaler.transform(X_train), index=X_train.index, columns=X_train.columns)\n",
    "    X_test = pd.DataFrame(scaler.transform(X_test), index=X_test.index, columns=X_test.columns)\n",
    "    \n",
    "    model = LinearRegression()\n",
    "    model.fit(X_train, y_train)\n",
    "    \n",
    "    results.append(model.score(X_test, y_test))"
   ]
  },
  {
   "cell_type": "code",
   "execution_count": 36,
   "id": "93e02e89-a1d0-4cc9-8ee1-78e8418abe1e",
   "metadata": {},
   "outputs": [
    {
     "data": {
      "text/plain": [
       "[0.3946287025214187,\n",
       " 0.3824527049153025,\n",
       " 0.3898577793399538,\n",
       " 0.3797771776442549,\n",
       " 0.3684239292948184]"
      ]
     },
     "execution_count": 36,
     "metadata": {},
     "output_type": "execute_result"
    }
   ],
   "source": [
    "results"
   ]
  },
  {
   "cell_type": "code",
   "execution_count": null,
   "id": "ff7fc01c-6682-4027-b3a4-636a707a3b74",
   "metadata": {},
   "outputs": [],
   "source": []
  }
 ],
 "metadata": {
  "kernelspec": {
   "display_name": "Python Multi",
   "language": "python",
   "name": "multi"
  },
  "language_info": {
   "codemirror_mode": {
    "name": "ipython",
    "version": 3
   },
   "file_extension": ".py",
   "mimetype": "text/x-python",
   "name": "python",
   "nbconvert_exporter": "python",
   "pygments_lexer": "ipython3",
   "version": "3.7.6"
  }
 },
 "nbformat": 4,
 "nbformat_minor": 5
}
