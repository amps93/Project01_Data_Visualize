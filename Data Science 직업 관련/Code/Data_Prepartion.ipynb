{
 "cells": [
  {
   "cell_type": "code",
   "execution_count": 53,
   "id": "46a57697-b833-411e-a94b-29e34129c23b",
   "metadata": {},
   "outputs": [
    {
     "name": "stdout",
     "output_type": "stream",
     "text": [
      "Setup Complete\n"
     ]
    }
   ],
   "source": [
    "import pandas as pd\n",
    "import numpy as np\n",
    "import pandas_profiling\n",
    "\n",
    "#Import libs\n",
    "pd.plotting.register_matplotlib_converters()\n",
    "import matplotlib.pyplot as plt\n",
    "import matplotlib as mpl\n",
    "import matplotlib.ticker as mticker\n",
    "%matplotlib inline\n",
    "\n",
    "import seaborn as sns\n",
    "\n",
    "import plotly.express as px\n",
    "import plotly.graph_objects as go\n",
    "\n",
    "print(\"Setup Complete\")"
   ]
  },
  {
   "cell_type": "code",
   "execution_count": 54,
   "id": "faeed9fb-06b6-42f8-ab6d-674dd7ee3e72",
   "metadata": {},
   "outputs": [
    {
     "name": "stdout",
     "output_type": "stream",
     "text": [
      "Data Loaded\n"
     ]
    }
   ],
   "source": [
    "#Data Load\n",
    "#-------------- Kaggle 2020 ---------------------\n",
    "kaggle2020File = \"2020_kaggle_survey_2020_responses.csv\"\n",
    "kaggle2020 = pd.read_csv(kaggle2020File, low_memory=False)\n",
    "descriptions = kaggle2020.loc[0:1,:]\n",
    "df = kaggle2020.loc[1:,:]\n",
    "\n",
    "print('Data Loaded')\n",
    "pd.set_option('display.max_columns', None)"
   ]
  },
  {
   "cell_type": "code",
   "execution_count": 55,
   "id": "b88a5701-0470-49f9-8483-1ea319f9b36d",
   "metadata": {},
   "outputs": [],
   "source": [
    "figtext_arg = dict(\n",
    "            horizontalalignment='center',\n",
    "            fontsize=12,\n",
    "            wrap=True,\n",
    "            alpha=0.65\n",
    ")"
   ]
  },
  {
   "cell_type": "code",
   "execution_count": 56,
   "id": "0387793f-2221-43c2-9c47-89b1840de4ae",
   "metadata": {},
   "outputs": [],
   "source": [
    "columns = list(range(1,20))"
   ]
  },
  {
   "cell_type": "code",
   "execution_count": 57,
   "id": "92b2a2ec-c725-49e6-b3bd-4ed7ca8b5e60",
   "metadata": {},
   "outputs": [],
   "source": [
    "columns += list(range(53,94))\n",
    "columns += [107,108,118,119,243]"
   ]
  },
  {
   "cell_type": "code",
   "execution_count": 58,
   "id": "1957d7d1-ae61-43a2-8fed-8cbf61643720",
   "metadata": {},
   "outputs": [],
   "source": [
    "# columns"
   ]
  },
  {
   "cell_type": "code",
   "execution_count": 59,
   "id": "a5da3ff7-bdb1-4c51-8a68-4d43629728c1",
   "metadata": {},
   "outputs": [],
   "source": [
    "kaggle2020 = df.iloc[:,columns]"
   ]
  },
  {
   "cell_type": "code",
   "execution_count": 60,
   "id": "4fa57fcd-3179-4d03-8eb8-9217746c63e8",
   "metadata": {},
   "outputs": [],
   "source": [
    "# kaggle2020.head()"
   ]
  },
  {
   "cell_type": "code",
   "execution_count": 61,
   "id": "a9f2ce6a-2a31-42e6-a69f-73b81e78a496",
   "metadata": {},
   "outputs": [],
   "source": [
    "# df.columns"
   ]
  },
  {
   "cell_type": "code",
   "execution_count": 62,
   "id": "72bae104-790f-4708-9497-edb7826ee30e",
   "metadata": {},
   "outputs": [
    {
     "name": "stdout",
     "output_type": "stream",
     "text": [
      "Kaggle 2020 data loaded\n"
     ]
    }
   ],
   "source": [
    "## Data preparation 2020\n",
    "\n",
    "#Single choice questions\n",
    "single = ['Q1','Q2','Q3','Q4','Q5','Q6','Q15', 'Q20', 'Q21', 'Q24','Q25','Q38']\n",
    "\n",
    "#Multiple choice questions\n",
    "multi = ['Q7', 'Q14', 'Q16', 'Q17','Q23']\n",
    "\n",
    "selected_columns = single\n",
    "\n",
    "for m in multi:\n",
    "    i = 1\n",
    "    while True:\n",
    "        qPart = (m+\"_Part_\"+str(i))\n",
    "        if qPart not in kaggle2020.columns:\n",
    "            break\n",
    "        selected_columns.append(qPart)\n",
    "        i = i+1\n",
    "    if m+\"_OTHER\" in kaggle2020.columns:\n",
    "        selected_columns.append(m+\"_OTHER\")\n",
    "\n",
    "kaggle2020 = kaggle2020.loc[:,selected_columns]\n",
    "kaggle2020.rename(\n",
    "    columns={\n",
    "        \"Q1\":\"Age\", \n",
    "        \"Q2\":\"Gender\", \n",
    "        \"Q3\":\"Country\", \n",
    "        \"Q4\":\"Education Level\", \n",
    "        \"Q5\":\"Role\", \n",
    "        \"Q6\":\"Programming Experience\", \n",
    "        \"Q15\":\"ML Experience\", \n",
    "        \"Q20\":\"Company Size\", \n",
    "        \"Q21\":\"Company Data Scientists\", \n",
    "        \"Q24\":\"Yearly Compensation\",\n",
    "        \"Q25\":\"Spent Money (5years)\",\n",
    "        \"Q38\":\"Primary Tool\"\n",
    "    }, inplace=True)\n",
    "#kaggle2020 = kaggle2020.loc[(kaggle2020.Role.isin(['Data Scientist','Student']))]\n",
    "print(\"Kaggle 2020 data loaded\")"
   ]
  },
  {
   "cell_type": "code",
   "execution_count": 63,
   "id": "a4b7931d-7923-48ef-8397-82316b80f1f5",
   "metadata": {},
   "outputs": [],
   "source": [
    "# kaggle2020.to_csv('Data.csv', index=None)"
   ]
  },
  {
   "cell_type": "markdown",
   "id": "a9fb74a0-f430-48f7-a040-9ef4b51bbe96",
   "metadata": {},
   "source": [
    "## 원핫 인코딩"
   ]
  },
  {
   "cell_type": "code",
   "execution_count": 64,
   "id": "3a95816e-2fc5-4e51-8ad4-aaa36c51b04e",
   "metadata": {},
   "outputs": [],
   "source": [
    "pd.set_option('display.max_row', 500)\n",
    "pd.set_option('display.max_columns', 100)\n",
    "# pd.Series(list(kaggle2020.columns))"
   ]
  },
  {
   "cell_type": "code",
   "execution_count": 65,
   "id": "90e40d08-5ad2-4e82-9ebb-2e297ceb7bcb",
   "metadata": {},
   "outputs": [],
   "source": [
    "def onehotEncoder(new_col_name, start, end):\n",
    "    encode = pd.get_dummies(kaggle2020.iloc[:,start:end])\n",
    "\n",
    "    kaggle2020[new_col_name] = encode.apply(sum, axis=1)"
   ]
  },
  {
   "cell_type": "code",
   "execution_count": 66,
   "id": "2e0f90bf-0407-4a3f-882e-1d704facd01d",
   "metadata": {},
   "outputs": [],
   "source": [
    "onehotEncoder('# of Languages', 12, 25)  #Number of available languages\n",
    "onehotEncoder('# of Visual tools', 25, 37)  #Number of available Visualization tools\n",
    "onehotEncoder('# of ML frameworks', 37, 53)  #Number of available ML frameworks\n",
    "onehotEncoder('# of ML algorithms', 53, 65)  #Number of available ML algorithms"
   ]
  },
  {
   "cell_type": "code",
   "execution_count": 67,
   "id": "9e6d9bd6-5db8-4090-b567-b1bf1c4fa508",
   "metadata": {},
   "outputs": [],
   "source": [
    "drop_columns = list(kaggle2020.columns)[12:65]"
   ]
  },
  {
   "cell_type": "code",
   "execution_count": 68,
   "id": "e808b3b2-09f2-4af4-b20e-e4683e3d8d31",
   "metadata": {},
   "outputs": [],
   "source": [
    "kaggle2020.drop(columns=drop_columns,inplace=True)"
   ]
  },
  {
   "cell_type": "code",
   "execution_count": 69,
   "id": "3321cc66-6229-4c35-b727-6cf6b1f0c2dd",
   "metadata": {},
   "outputs": [
    {
     "data": {
      "text/html": [
       "<div>\n",
       "<style scoped>\n",
       "    .dataframe tbody tr th:only-of-type {\n",
       "        vertical-align: middle;\n",
       "    }\n",
       "\n",
       "    .dataframe tbody tr th {\n",
       "        vertical-align: top;\n",
       "    }\n",
       "\n",
       "    .dataframe thead th {\n",
       "        text-align: right;\n",
       "    }\n",
       "</style>\n",
       "<table border=\"1\" class=\"dataframe\">\n",
       "  <thead>\n",
       "    <tr style=\"text-align: right;\">\n",
       "      <th></th>\n",
       "      <th>Age</th>\n",
       "      <th>Gender</th>\n",
       "      <th>Country</th>\n",
       "      <th>Education Level</th>\n",
       "      <th>Role</th>\n",
       "      <th>Programming Experience</th>\n",
       "      <th>ML Experience</th>\n",
       "      <th>Company Size</th>\n",
       "      <th>Company Data Scientists</th>\n",
       "      <th>Yearly Compensation</th>\n",
       "      <th>Spent Money (5years)</th>\n",
       "      <th>Primary Tool</th>\n",
       "      <th># of Languages</th>\n",
       "      <th># of Visual tools</th>\n",
       "      <th># of ML frameworks</th>\n",
       "      <th># of ML algorithms</th>\n",
       "    </tr>\n",
       "  </thead>\n",
       "  <tbody>\n",
       "    <tr>\n",
       "      <th>1</th>\n",
       "      <td>35-39</td>\n",
       "      <td>Man</td>\n",
       "      <td>Colombia</td>\n",
       "      <td>Doctoral degree</td>\n",
       "      <td>Student</td>\n",
       "      <td>5-10 years</td>\n",
       "      <td>1-2 years</td>\n",
       "      <td>NaN</td>\n",
       "      <td>NaN</td>\n",
       "      <td>NaN</td>\n",
       "      <td>NaN</td>\n",
       "      <td>Basic statistical software (Microsoft Excel, G...</td>\n",
       "      <td>7</td>\n",
       "      <td>2</td>\n",
       "      <td>3</td>\n",
       "      <td>6</td>\n",
       "    </tr>\n",
       "    <tr>\n",
       "      <th>2</th>\n",
       "      <td>30-34</td>\n",
       "      <td>Man</td>\n",
       "      <td>United States of America</td>\n",
       "      <td>Master’s degree</td>\n",
       "      <td>Data Engineer</td>\n",
       "      <td>5-10 years</td>\n",
       "      <td>1-2 years</td>\n",
       "      <td>10,000 or more employees</td>\n",
       "      <td>20+</td>\n",
       "      <td>100,000-124,999</td>\n",
       "      <td>$100,000 or more ($USD)</td>\n",
       "      <td>Business intelligence software (Salesforce, Ta...</td>\n",
       "      <td>3</td>\n",
       "      <td>4</td>\n",
       "      <td>4</td>\n",
       "      <td>3</td>\n",
       "    </tr>\n",
       "    <tr>\n",
       "      <th>3</th>\n",
       "      <td>35-39</td>\n",
       "      <td>Man</td>\n",
       "      <td>Argentina</td>\n",
       "      <td>Bachelor’s degree</td>\n",
       "      <td>Software Engineer</td>\n",
       "      <td>10-20 years</td>\n",
       "      <td>I do not use machine learning methods</td>\n",
       "      <td>1000-9,999 employees</td>\n",
       "      <td>0</td>\n",
       "      <td>15,000-19,999</td>\n",
       "      <td>$0 ($USD)</td>\n",
       "      <td>Basic statistical software (Microsoft Excel, G...</td>\n",
       "      <td>3</td>\n",
       "      <td>1</td>\n",
       "      <td>0</td>\n",
       "      <td>0</td>\n",
       "    </tr>\n",
       "    <tr>\n",
       "      <th>4</th>\n",
       "      <td>30-34</td>\n",
       "      <td>Man</td>\n",
       "      <td>United States of America</td>\n",
       "      <td>Master’s degree</td>\n",
       "      <td>Data Scientist</td>\n",
       "      <td>5-10 years</td>\n",
       "      <td>3-4 years</td>\n",
       "      <td>250-999 employees</td>\n",
       "      <td>5-9</td>\n",
       "      <td>125,000-149,999</td>\n",
       "      <td>$10,000-$99,999</td>\n",
       "      <td>Local development environments (RStudio, Jupyt...</td>\n",
       "      <td>3</td>\n",
       "      <td>3</td>\n",
       "      <td>4</td>\n",
       "      <td>5</td>\n",
       "    </tr>\n",
       "    <tr>\n",
       "      <th>5</th>\n",
       "      <td>30-34</td>\n",
       "      <td>Man</td>\n",
       "      <td>Japan</td>\n",
       "      <td>Master’s degree</td>\n",
       "      <td>Software Engineer</td>\n",
       "      <td>3-5 years</td>\n",
       "      <td>NaN</td>\n",
       "      <td>NaN</td>\n",
       "      <td>NaN</td>\n",
       "      <td>NaN</td>\n",
       "      <td>NaN</td>\n",
       "      <td>NaN</td>\n",
       "      <td>1</td>\n",
       "      <td>0</td>\n",
       "      <td>0</td>\n",
       "      <td>0</td>\n",
       "    </tr>\n",
       "  </tbody>\n",
       "</table>\n",
       "</div>"
      ],
      "text/plain": [
       "     Age Gender                   Country    Education Level  \\\n",
       "1  35-39    Man                  Colombia    Doctoral degree   \n",
       "2  30-34    Man  United States of America    Master’s degree   \n",
       "3  35-39    Man                 Argentina  Bachelor’s degree   \n",
       "4  30-34    Man  United States of America    Master’s degree   \n",
       "5  30-34    Man                     Japan    Master’s degree   \n",
       "\n",
       "                Role Programming Experience  \\\n",
       "1            Student             5-10 years   \n",
       "2      Data Engineer             5-10 years   \n",
       "3  Software Engineer            10-20 years   \n",
       "4     Data Scientist             5-10 years   \n",
       "5  Software Engineer              3-5 years   \n",
       "\n",
       "                           ML Experience              Company Size  \\\n",
       "1                              1-2 years                       NaN   \n",
       "2                              1-2 years  10,000 or more employees   \n",
       "3  I do not use machine learning methods      1000-9,999 employees   \n",
       "4                              3-4 years         250-999 employees   \n",
       "5                                    NaN                       NaN   \n",
       "\n",
       "  Company Data Scientists Yearly Compensation     Spent Money (5years)  \\\n",
       "1                     NaN                 NaN                      NaN   \n",
       "2                     20+     100,000-124,999  $100,000 or more ($USD)   \n",
       "3                       0       15,000-19,999                $0 ($USD)   \n",
       "4                     5-9     125,000-149,999          $10,000-$99,999   \n",
       "5                     NaN                 NaN                      NaN   \n",
       "\n",
       "                                        Primary Tool  # of Languages  \\\n",
       "1  Basic statistical software (Microsoft Excel, G...               7   \n",
       "2  Business intelligence software (Salesforce, Ta...               3   \n",
       "3  Basic statistical software (Microsoft Excel, G...               3   \n",
       "4  Local development environments (RStudio, Jupyt...               3   \n",
       "5                                                NaN               1   \n",
       "\n",
       "   # of Visual tools  # of ML frameworks  # of ML algorithms  \n",
       "1                  2                   3                   6  \n",
       "2                  4                   4                   3  \n",
       "3                  1                   0                   0  \n",
       "4                  3                   4                   5  \n",
       "5                  0                   0                   0  "
      ]
     },
     "execution_count": 69,
     "metadata": {},
     "output_type": "execute_result"
    }
   ],
   "source": [
    "kaggle2020.head()"
   ]
  },
  {
   "cell_type": "code",
   "execution_count": 70,
   "id": "50753645-b6ad-47c9-959d-8006f10ef7c6",
   "metadata": {},
   "outputs": [
    {
     "name": "stdout",
     "output_type": "stream",
     "text": [
      "Age  :  ['35-39' '30-34' '22-24' '25-29' '18-21' '55-59' '50-54' '40-44' '60-69'\n",
      " '45-49' '70+']\n",
      "Gender  :  ['Man' 'Woman' 'Prefer to self-describe' 'Prefer not to say' 'Nonbinary']\n",
      "Country  :  ['Colombia' 'United States of America' 'Argentina' 'Japan' 'India'\n",
      " 'Brazil' 'China' 'Germany' 'Indonesia' 'Canada' 'Switzerland' 'Other'\n",
      " 'Singapore' 'Russia' 'South Africa' 'Egypt' 'Netherlands' 'Pakistan'\n",
      " 'Nepal' 'South Korea' 'Poland' 'Belarus' 'Tunisia' 'Ukraine' 'Belgium'\n",
      " 'Saudi Arabia' 'Taiwan' 'Nigeria' 'Italy' 'Spain' 'United Arab Emirates'\n",
      " 'Mexico' 'Viet Nam' 'Thailand'\n",
      " 'United Kingdom of Great Britain and Northern Ireland' 'France' 'Ghana'\n",
      " 'Ireland' 'Philippines' 'Morocco' 'Turkey' 'Iran, Islamic Republic of...'\n",
      " 'Peru' 'Romania' 'Republic of Korea' 'Australia' 'Chile' 'Kenya' 'Sweden'\n",
      " 'Bangladesh' 'Greece' 'Malaysia' 'Portugal' 'Israel' 'Sri Lanka']\n",
      "Education Level  :  ['Doctoral degree' 'Master’s degree' 'Bachelor’s degree'\n",
      " 'No formal education past high school'\n",
      " 'Some college/university study without earning a bachelor’s degree'\n",
      " 'Professional degree' 'I prefer not to answer' nan]\n",
      "Role  :  ['Student' 'Data Engineer' 'Software Engineer' 'Data Scientist'\n",
      " 'Data Analyst' 'Research Scientist' 'Other' 'Currently not employed'\n",
      " 'Statistician' 'Product/Project Manager' 'Machine Learning Engineer' nan\n",
      " 'Business Analyst' 'DBA/Database Engineer']\n",
      "Programming Experience  :  ['5-10 years' '10-20 years' '3-5 years' '< 1 years' '1-2 years'\n",
      " '20+ years' 'I have never written code' nan]\n",
      "ML Experience  :  ['1-2 years' 'I do not use machine learning methods' '3-4 years' nan\n",
      " 'Under 1 year' '2-3 years' '4-5 years' '5-10 years' '20 or more years'\n",
      " '10-20 years']\n",
      "Company Size  :  [nan '10,000 or more employees' '1000-9,999 employees' '250-999 employees'\n",
      " '0-49 employees' '50-249 employees']\n",
      "Company Data Scientists  :  [nan '20+' '0' '5-9' '1-2' '3-4' '10-14' '15-19']\n",
      "Yearly Compensation  :  [nan '100,000-124,999' '15,000-19,999' '125,000-149,999' '70,000-79,999'\n",
      " '30,000-39,999' '90,000-99,999' '1,000-1,999' '$0-999' '10,000-14,999'\n",
      " '150,000-199,999' '60,000-69,999' '4,000-4,999' '> $500,000'\n",
      " '300,000-500,000' '40,000-49,999' '25,000-29,999' '80,000-89,999'\n",
      " '7,500-9,999' '50,000-59,999' '250,000-299,999' '5,000-7,499'\n",
      " '2,000-2,999' '20,000-24,999' '200,000-249,999' '3,000-3,999']\n",
      "Spent Money (5years)  :  [nan '$100,000 or more ($USD)' '$0 ($USD)' '$10,000-$99,999' '$1-$99'\n",
      " '$1000-$9,999' '$100-$999']\n",
      "Primary Tool  :  ['Basic statistical software (Microsoft Excel, Google Sheets, etc.)'\n",
      " 'Business intelligence software (Salesforce, Tableau, Spotfire, etc.)'\n",
      " 'Local development environments (RStudio, JupyterLab, etc.)' nan\n",
      " 'Cloud-based data software & APIs (AWS, GCP, Azure, etc.)'\n",
      " 'Advanced statistical software (SPSS, SAS, etc.)' 'Other']\n",
      "# of Languages  :  [ 7  3  1  2  5  4  0  6  8  9 10 12 11]\n",
      "# of Visual tools  :  [ 2  4  1  3  0  5  6 10  7  9  8 11]\n",
      "# of ML frameworks  :  [ 3  4  0  5  1  2  8  6  7  9 14 11 10 15 13]\n",
      "# of ML algorithms  :  [ 6  3  0  5  4  1  2  9  7  8 10 11]\n"
     ]
    }
   ],
   "source": [
    "for i in range(len(kaggle2020.columns)):\n",
    "    print(kaggle2020.columns[i], ' : ', kaggle2020.iloc[:,i].unique())"
   ]
  },
  {
   "cell_type": "code",
   "execution_count": 71,
   "id": "33554f0d-e533-4011-a2ae-a884f54989a3",
   "metadata": {},
   "outputs": [],
   "source": [
    "# kaggle2020.profile_report()"
   ]
  },
  {
   "cell_type": "code",
   "execution_count": 72,
   "id": "a8e1cfe6-136c-4bcc-998f-a215c4b3e973",
   "metadata": {},
   "outputs": [],
   "source": [
    "# kaggle2020.to_csv('Final_Data.csv', index=None)"
   ]
  },
  {
   "cell_type": "code",
   "execution_count": null,
   "id": "9d2562e6-9e46-4333-9150-be73388fe40c",
   "metadata": {},
   "outputs": [],
   "source": []
  }
 ],
 "metadata": {
  "kernelspec": {
   "display_name": "Python Multi",
   "language": "python",
   "name": "multi"
  },
  "language_info": {
   "codemirror_mode": {
    "name": "ipython",
    "version": 3
   },
   "file_extension": ".py",
   "mimetype": "text/x-python",
   "name": "python",
   "nbconvert_exporter": "python",
   "pygments_lexer": "ipython3",
   "version": "3.7.6"
  }
 },
 "nbformat": 4,
 "nbformat_minor": 5
}
